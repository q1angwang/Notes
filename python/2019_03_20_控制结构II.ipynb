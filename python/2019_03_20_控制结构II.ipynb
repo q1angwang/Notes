{
 "cells": [
  {
   "cell_type": "markdown",
   "metadata": {},
   "source": [
    "### <font color='#0000FF'>练习1：实现如何将成绩从百分制变换到等级制</font>\n",
    "百分制分数|等级\n",
    ":---|:---|:---\n",
    "90-100 | $A$\n",
    "80-89  | $B$\n",
    "70-79  | $C$\n",
    "60-69  | $D$\n",
    "59-0   | $E$"
   ]
  },
  {
   "cell_type": "code",
   "execution_count": null,
   "metadata": {},
   "outputs": [],
   "source": [
    "# 百分制成绩 grade 通过input()获得\n",
    "# 然后将grade转换为等级制成绩\n",
    "\n"
   ]
  },
  {
   "cell_type": "markdown",
   "metadata": {},
   "source": [
    "### <font color='#0000FF'>函数</font>\n",
    "- <font color='#ff0000'>内置函数(built-in functions)</font>\n",
    "- <font color='#ff00FF'>自定义函数</font>\n",
    "   * 基本语法：\n",
    "       * 函数头\n",
    "       * 函数体"
   ]
  },
  {
   "cell_type": "code",
   "execution_count": null,
   "metadata": {},
   "outputs": [],
   "source": [
    "# 基本输出函数，默认输出到屏幕，相邻数据使用空格分隔，以换行符结束所有数据的输出\n",
    "print(\"You\",\"need\",\"Python.\")\n",
    "\n",
    "# 显示提示，接收键盘输入的内容，返回字符串\n",
    "name = input(\"Please input your name: \")\n",
    "\n",
    "# 返回与x等价的布尔值True或False；\n",
    "bool('5.0')\n",
    "\n",
    "# 把整数或字符串想转换为浮点数并返回；\n",
    "float('3.4')\n",
    "\n",
    "# 返回实数，分数或高精度实数的整数部分，或把d进制的字符串x转换为十进制返回，d默认为十进制\n",
    "int('10',2)\n",
    "\n",
    "# 把对象直接转换为字符串\n",
    "str(5)\n",
    "\n",
    "# 返回对象的帮助信息\n",
    "help(int)\n",
    "\n",
    "# 返回指定对象或模块的成员列表，如果不带参数，则返回当前作用域内所有标识符\n",
    "dir(__builtin__)\n",
    "\n",
    "# 测试对象是否属于指定类型的实例（如果有多个类型的话需要放到元组中）\n",
    "isinstance(3,int)\n",
    "\n",
    "# 返回对象包含的元素个数，适用于列表，元组，集合，字典，字符串以及range对象，不适用与具有惰性求值特点的生成器对象和map,zip等迭代对象\n",
    "len(\"python\")\n",
    "\n",
    "# range([start,]stop[,step]): 返回range对象，其中包含左闭右开区间[start,stop)内以step为步长的整数\n",
    "range(10,0,-2)\n",
    "\n",
    "# sum(x): 返回序列x中所有元素之和，允许指定起始值start,返回start+sum(x)\n",
    "sum([1,2,3,4,5])\n",
    "\n",
    "# 返回对象的类型\n",
    "type('python')"
   ]
  },
  {
   "cell_type": "markdown",
   "metadata": {},
   "source": [
    "### 分别运行以上每一个内置函数，并理解和掌握它们的用法\n"
   ]
  },
  {
   "cell_type": "code",
   "execution_count": null,
   "metadata": {},
   "outputs": [],
   "source": []
  },
  {
   "cell_type": "code",
   "execution_count": null,
   "metadata": {},
   "outputs": [],
   "source": []
  },
  {
   "cell_type": "code",
   "execution_count": null,
   "metadata": {},
   "outputs": [],
   "source": []
  },
  {
   "cell_type": "code",
   "execution_count": null,
   "metadata": {},
   "outputs": [],
   "source": [
    "def myTAs(firstTA,secondTA,thirdTA):\n",
    "    return \"{0}, {1}, and {2} are awesome!\".format(firstTA, secondTA, thirdTA)"
   ]
  },
  {
   "cell_type": "code",
   "execution_count": null,
   "metadata": {},
   "outputs": [],
   "source": [
    "testFirstTA = \n",
    "testSecondTA = \n",
    "testThirdTA = \n",
    "print(myTAs(testFirstTA, testSecondTA, testThirdTA))"
   ]
  },
  {
   "cell_type": "markdown",
   "metadata": {},
   "source": [
    "## <font color='#0000FF'>函数参数</font>"
   ]
  },
  {
   "cell_type": "markdown",
   "metadata": {},
   "source": [
    "### <font color='#0000FF'>位置参数</font>"
   ]
  },
  {
   "cell_type": "code",
   "execution_count": null,
   "metadata": {},
   "outputs": [],
   "source": [
    "def polynomial(x,y,z):\n",
    "    return 1 + 2*x + y*y + y*z"
   ]
  },
  {
   "cell_type": "code",
   "execution_count": null,
   "metadata": {},
   "outputs": [],
   "source": [
    "print(polynomial(1,2,3))"
   ]
  },
  {
   "cell_type": "markdown",
   "metadata": {},
   "source": [
    "### <font color='#0000FF'>默认值参数</font>"
   ]
  },
  {
   "cell_type": "code",
   "execution_count": null,
   "metadata": {},
   "outputs": [],
   "source": [
    "def polynomial2(x,y,z=3):\n",
    "    return 1 + 2*x + y*y + y*z"
   ]
  },
  {
   "cell_type": "code",
   "execution_count": null,
   "metadata": {},
   "outputs": [],
   "source": [
    "polynomial2(1,2)"
   ]
  },
  {
   "cell_type": "code",
   "execution_count": null,
   "metadata": {},
   "outputs": [],
   "source": [
    "polynomial(1,2,5)"
   ]
  },
  {
   "cell_type": "markdown",
   "metadata": {},
   "source": [
    "### <font color='#0000FF'>关键字参数</font>"
   ]
  },
  {
   "cell_type": "code",
   "execution_count": null,
   "metadata": {},
   "outputs": [],
   "source": [
    "print(\"A\", \"B\", \"C\")"
   ]
  },
  {
   "cell_type": "code",
   "execution_count": null,
   "metadata": {},
   "outputs": [],
   "source": [
    "print(\"A\", \"B\", \"C\", sep=\"\", end=\"\")"
   ]
  },
  {
   "cell_type": "markdown",
   "metadata": {},
   "source": [
    "### <font color='#0000FF'>练习2：用函数来计算斐波那契数列中小于参数n的所有值</font>"
   ]
  },
  {
   "cell_type": "code",
   "execution_count": null,
   "metadata": {},
   "outputs": [],
   "source": [
    "# define a function named Fibonacci\n",
    "# which takes an integer n as parameter\n",
    "# the function return the numbers less than n in Fibonacci sequence.\n",
    "# your code is here\n",
    "\n"
   ]
  },
  {
   "cell_type": "code",
   "execution_count": null,
   "metadata": {},
   "outputs": [],
   "source": [
    "# 打印出斐波那契数列中小于200的所有值\n"
   ]
  },
  {
   "cell_type": "markdown",
   "metadata": {},
   "source": [
    "### <font color='#0000FF'>练习3：用函数来实现如何将成绩从百分制变换到等级制</font>\n",
    "百分制分数|等级\n",
    ":---|:---|:---\n",
    "90-100 | $A$\n",
    "80-89  | $B$\n",
    "70-79  | $C$\n",
    "60-69  | $D$\n",
    "59-0   | $E$"
   ]
  },
  {
   "cell_type": "code",
   "execution_count": null,
   "metadata": {},
   "outputs": [],
   "source": [
    "# define a function named grade_transform which takes score as parameter\n",
    "# the function return the rank of each score according to the above table\n",
    "\n"
   ]
  },
  {
   "cell_type": "code",
   "execution_count": null,
   "metadata": {},
   "outputs": [],
   "source": [
    "# use input to get the score and test your function\n",
    "\n"
   ]
  },
  {
   "cell_type": "markdown",
   "metadata": {},
   "source": [
    "### <font color='#0000FF'>异常处理</font>"
   ]
  },
  {
   "cell_type": "code",
   "execution_count": null,
   "metadata": {},
   "outputs": [],
   "source": [
    "print(int(\"5.0\"))"
   ]
  },
  {
   "cell_type": "code",
   "execution_count": null,
   "metadata": {},
   "outputs": [],
   "source": [
    "myString = \"This string is not a number!\"\n",
    "print(\"Converting myString to int...\")\n",
    "myInt = int(myString)\n",
    "print(myInt)\n",
    "print(\"Done!\")"
   ]
  },
  {
   "cell_type": "markdown",
   "metadata": {},
   "source": [
    "### <font color=\"ff00ff\">try...except...</font>"
   ]
  },
  {
   "cell_type": "code",
   "execution_count": null,
   "metadata": {},
   "outputs": [],
   "source": [
    "myString = \"This string is not a number!\"\n",
    "try:\n",
    "    print(\"Converting myString to int...\")\n",
    "    myInt = int(myString)\n",
    "    print(myInt)\n",
    "except:\n",
    "    pass\n",
    "print(\"Done!\")"
   ]
  },
  {
   "cell_type": "code",
   "execution_count": null,
   "metadata": {},
   "outputs": [],
   "source": [
    "myString = \"This string is not a number!\"\n",
    "try:\n",
    "    print(\"Converting myString to int...\")\n",
    "    print(\"String #\" + 1 + \": \" + myString)\n",
    "    myInt = int(myString)\n",
    "    print(myInt)\n",
    "except:\n",
    "    print(\"Can't convert; myString not a number.\")\n",
    "print(\"Done!\")"
   ]
  },
  {
   "cell_type": "code",
   "execution_count": null,
   "metadata": {},
   "outputs": [],
   "source": [
    "myString = \"This string is not a number!\"\n",
    "try:\n",
    "    print(\"Converting myString to int...\")\n",
    "    print(\"String #\" + 1 + \": \" + myString)\n",
    "    myInt = int(myString)\n",
    "    print(myInt)\n",
    "except TypeError:\n",
    "    print(\"Can't convert; myString not a number.\")\n",
    "print(\"Done!\")"
   ]
  },
  {
   "cell_type": "code",
   "execution_count": null,
   "metadata": {},
   "outputs": [],
   "source": [
    "myString = \"This string is not a number!\"\n",
    "try:\n",
    "    print(\"Converting myString to int...\")\n",
    "    #print(\"String #\" + 1 + \": \" + myString)\n",
    "    myInt = int(myString)\n",
    "    print(myInt)\n",
    "except TypeError:\n",
    "    print(\"Can't convert; myString not a number.\")\n",
    "print(\"Done!\")"
   ]
  },
  {
   "cell_type": "markdown",
   "metadata": {},
   "source": [
    "### <font color=\"ff00ff\">带有多个except的异常处理结构</font>\n",
    "\n",
    "一旦try中的代码抛出异常，按照顺利依次检查与哪一个except子句匹配，如果某个except子句捕捉到了异常，其他的except子句将不会再尝试捕获异常"
   ]
  },
  {
   "cell_type": "code",
   "execution_count": null,
   "metadata": {},
   "outputs": [],
   "source": [
    "myString = \"This string is not a number!\"\n",
    "try:\n",
    "    print(\"Converting myString to int...\")\n",
    "    print(1/0) #\n",
    "    print(\"String #\" + 1 + \": \" + myString) #\n",
    "    myInt = int(myString) #\n",
    "    print(myInt)\n",
    "    print(1/0)\n",
    "# if an error occurs, check if it's a ValueError\n",
    "except ValueError as error:\n",
    "    print(error)\n",
    "# if an error occurs, check if it's a TypeError\n",
    "except TypeError as error:\n",
    "#    print(error)\n",
    "except ZeroDivisionError as error:\n",
    "    print(error)\n",
    "    \n",
    "print(\"Done!\")"
   ]
  },
  {
   "cell_type": "markdown",
   "metadata": {},
   "source": [
    "### <font color=\"ff00ff\">try...except...else...</font>"
   ]
  },
  {
   "cell_type": "code",
   "execution_count": null,
   "metadata": {},
   "outputs": [],
   "source": [
    "myString = \"1\"\n",
    "try:\n",
    "    print(\"Converting myString to int...\")\n",
    "    myInt = int(myString)\n",
    "    print(myInt)\n",
    "    print(1/0)\n",
    "# if an error occurs, check if it's a ValueError\n",
    "except (ValueError,TypeError) as error:\n",
    "    print(\"A ValueError or TypeError occurred.\")\n",
    "# if an error occurs, check if it's a TypeError\n",
    "except Exception as error:\n",
    "    print(\"Some other type of error occurred.\")\n",
    "else:\n",
    "    print(\"No errors occurred!\")\n",
    "print(\"Done!\")"
   ]
  },
  {
   "cell_type": "markdown",
   "metadata": {},
   "source": [
    "### <font color=\"ff00ff\">try...except...else...finally</font>"
   ]
  },
  {
   "cell_type": "code",
   "execution_count": null,
   "metadata": {},
   "outputs": [],
   "source": [
    "try:\n",
    "    #Open InputFile.txt in read-only mode\n",
    "    inputFile = open(\"NumberAndLetterFile.txt\", mode=\"r\")\n",
    "    try:\n",
    "        #For each line in the file\n",
    "        for line in inputFile:\n",
    "            #Print the line\n",
    "            print(int(line))\n",
    "    #Catch a ValueError\n",
    "    except ValueError:\n",
    "        print(\"A value error occurred!\")\n",
    "    else:\n",
    "        print(\"No errors occurred converting the file!\")\n",
    "    finally:\n",
    "        #Close the file\n",
    "        inputFile.close()\n",
    "#Catch an IOError\n",
    "except IOError as error:\n",
    "    #print(\"An error occurred reading the file!\")\n",
    "    print(error)"
   ]
  },
  {
   "cell_type": "markdown",
   "metadata": {},
   "source": [
    "###  <font color='#0000FF'> 作业1：判断一个数是否为素数</font>（尽量想出效率最高，最快速的算法）"
   ]
  },
  {
   "cell_type": "code",
   "execution_count": null,
   "metadata": {},
   "outputs": [],
   "source": [
    "# define a function named is_prime\n",
    "# which takes an integer anum as parameter；\n",
    "# if anum is a prime, then return True; else return False;\n",
    "# your code is here\n",
    "\n"
   ]
  },
  {
   "cell_type": "code",
   "execution_count": null,
   "metadata": {},
   "outputs": [],
   "source": [
    "# 调用函数，输出100以内的所有素数\n",
    "\n"
   ]
  },
  {
   "cell_type": "markdown",
   "metadata": {},
   "source": [
    "###  <font color='#0000FF'> 作业2：一个整数加上100是一个完全平方数，再加168又是一个完全平方数，请问该数是多少？"
   ]
  },
  {
   "cell_type": "code",
   "execution_count": null,
   "metadata": {},
   "outputs": [],
   "source": []
  }
 ],
 "metadata": {
  "kernelspec": {
   "display_name": "Python 3",
   "language": "python",
   "name": "python3"
  },
  "language_info": {
   "codemirror_mode": {
    "name": "ipython",
    "version": 3
   },
   "file_extension": ".py",
   "mimetype": "text/x-python",
   "name": "python",
   "nbconvert_exporter": "python",
   "pygments_lexer": "ipython3",
   "version": "3.6.5"
  }
 },
 "nbformat": 4,
 "nbformat_minor": 2
}
